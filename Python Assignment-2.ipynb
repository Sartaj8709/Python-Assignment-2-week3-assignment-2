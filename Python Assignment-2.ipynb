{
  "metadata": {
    "language_info": {
      "codemirror_mode": {
        "name": "python",
        "version": 3
      },
      "file_extension": ".py",
      "mimetype": "text/x-python",
      "name": "python",
      "nbconvert_exporter": "python",
      "pygments_lexer": "ipython3",
      "version": "3.8"
    },
    "kernelspec": {
      "name": "python",
      "display_name": "Python (Pyodide)",
      "language": "python"
    }
  },
  "nbformat_minor": 4,
  "nbformat": 4,
  "cells": [
    {
      "cell_type": "markdown",
      "source": "Q1))",
      "metadata": {}
    },
    {
      "cell_type": "code",
      "source": "l=[(\"sachin tendulkar\",34357),(\"Ricky ponting\",27483),(\"jack kalish\",25534),(\"virat kohli\",24936)]\nl.sort(key=lambda x:x[1])\nl",
      "metadata": {
        "trusted": true
      },
      "execution_count": 3,
      "outputs": [
        {
          "execution_count": 3,
          "output_type": "execute_result",
          "data": {
            "text/plain": "[('virat kohli', 24936),\n ('jack kalish', 25534),\n ('Ricky ponting', 27483),\n ('sachin tendulkar', 34357)]"
          },
          "metadata": {}
        }
      ]
    },
    {
      "cell_type": "code",
      "source": "",
      "metadata": {},
      "execution_count": null,
      "outputs": []
    },
    {
      "cell_type": "markdown",
      "source": "Q2))",
      "metadata": {}
    },
    {
      "cell_type": "code",
      "source": "l2=[1,2,3,4,5,6,7,8,9,10]\nlist(map(lambda x:x**2,l2))",
      "metadata": {
        "trusted": true
      },
      "execution_count": 4,
      "outputs": [
        {
          "execution_count": 4,
          "output_type": "execute_result",
          "data": {
            "text/plain": "[1, 4, 9, 16, 25, 36, 49, 64, 81, 100]"
          },
          "metadata": {}
        }
      ]
    },
    {
      "cell_type": "code",
      "source": "",
      "metadata": {},
      "execution_count": null,
      "outputs": []
    },
    {
      "cell_type": "markdown",
      "source": "Q3))",
      "metadata": {}
    },
    {
      "cell_type": "code",
      "source": "l3=[1,2,3,4,5,6,7,8,9,10]\ny=tuple(map(lambda x:str(x),l3))\ny",
      "metadata": {
        "trusted": true
      },
      "execution_count": 15,
      "outputs": [
        {
          "execution_count": 15,
          "output_type": "execute_result",
          "data": {
            "text/plain": "('1', '2', '3', '4', '5', '6', '7', '8', '9', '10')"
          },
          "metadata": {}
        }
      ]
    },
    {
      "cell_type": "code",
      "source": "",
      "metadata": {},
      "execution_count": null,
      "outputs": []
    },
    {
      "cell_type": "markdown",
      "source": "Q4))",
      "metadata": {}
    },
    {
      "cell_type": "code",
      "source": "from functools import reduce\nl4=list(range(1,26))\ndef product_function(x,y):\n    return x*y\nreduce(product_function,l4)",
      "metadata": {
        "trusted": true
      },
      "execution_count": 18,
      "outputs": [
        {
          "execution_count": 18,
          "output_type": "execute_result",
          "data": {
            "text/plain": "15511210043330985984000000"
          },
          "metadata": {}
        }
      ]
    },
    {
      "cell_type": "code",
      "source": "",
      "metadata": {},
      "execution_count": null,
      "outputs": []
    },
    {
      "cell_type": "markdown",
      "source": "Q5))",
      "metadata": {}
    },
    {
      "cell_type": "code",
      "source": "list(filter(lambda x:(x%2==0 and x%3==0),[2,3,6,27,60,90,120,55,46]))",
      "metadata": {
        "trusted": true
      },
      "execution_count": 28,
      "outputs": [
        {
          "execution_count": 28,
          "output_type": "execute_result",
          "data": {
            "text/plain": "[6, 60, 90, 120]"
          },
          "metadata": {}
        }
      ]
    },
    {
      "cell_type": "code",
      "source": "",
      "metadata": {},
      "execution_count": null,
      "outputs": []
    },
    {
      "cell_type": "markdown",
      "source": "Q6))",
      "metadata": {}
    },
    {
      "cell_type": "code",
      "source": "l6=['python','php','aba','radar','level']\ni=0\nlist(filter(lambda x:list(x)==list(x).reverse(),l6))",
      "metadata": {
        "trusted": true
      },
      "execution_count": 39,
      "outputs": [
        {
          "execution_count": 39,
          "output_type": "execute_result",
          "data": {
            "text/plain": "[]"
          },
          "metadata": {}
        }
      ]
    },
    {
      "cell_type": "code",
      "source": "",
      "metadata": {},
      "execution_count": null,
      "outputs": []
    }
  ]
}